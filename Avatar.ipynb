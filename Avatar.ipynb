{
 "cells": [
  {
   "cell_type": "code",
   "execution_count": 1,
   "id": "aa8016ad",
   "metadata": {},
   "outputs": [],
   "source": [
    "#!pip install py_avataaars\n",
    "#conda install -c anaconda cairo"
   ]
  },
  {
   "cell_type": "code",
   "execution_count": 2,
   "id": "a5b54440",
   "metadata": {},
   "outputs": [],
   "source": [
    "import py_avataaars as pa"
   ]
  },
  {
   "cell_type": "code",
   "execution_count": 3,
   "id": "1673199b",
   "metadata": {
    "scrolled": true
   },
   "outputs": [
    {
     "name": "stdout",
     "output_type": "stream",
     "text": [
      "avatarstyle = [pa.AvatarStyle.CIRCLE, pa.AvatarStyle.TRANSPARENT]\n",
      "skincolor = [pa.SkinColor.BLACK, pa.SkinColor.BROWN, pa.SkinColor.DARK_BROWN, pa.SkinColor.LIGHT, pa.SkinColor.PALE, pa.SkinColor.TANNED, pa.SkinColor.YELLOW]\n",
      "haircolor = [pa.HairColor.AUBURN, pa.HairColor.BLACK, pa.HairColor.BLONDE, pa.HairColor.BLONDE_GOLDEN, pa.HairColor.BROWN, pa.HairColor.BROWN_DARK, pa.HairColor.PASTEL_PINK, pa.HairColor.PLATINUM, pa.HairColor.RED, pa.HairColor.SILVER_GRAY]\n",
      "facialhairtype = [pa.FacialHairType.BEARD_LIGHT, pa.FacialHairType.BEARD_MAJESTIC, pa.FacialHairType.BEARD_MEDIUM, pa.FacialHairType.DEFAULT, pa.FacialHairType.MOUSTACHE_FANCY, pa.FacialHairType.MOUSTACHE_MAGNUM]\n",
      "toptype = [pa.TopType.EYE_PATCH, pa.TopType.HAT, pa.TopType.HIJAB, pa.TopType.LONG_HAIR_BIG_HAIR, pa.TopType.LONG_HAIR_BOB, pa.TopType.LONG_HAIR_BUN, pa.TopType.LONG_HAIR_CURLY, pa.TopType.LONG_HAIR_CURVY, pa.TopType.LONG_HAIR_DREADS, pa.TopType.LONG_HAIR_FRIDA, pa.TopType.LONG_HAIR_FRO, pa.TopType.LONG_HAIR_FRO_BAND, pa.TopType.LONG_HAIR_MIA_WALLACE, pa.TopType.LONG_HAIR_NOT_TOO_LONG, pa.TopType.LONG_HAIR_SHAVED_SIDES, pa.TopType.LONG_HAIR_STRAIGHT, pa.TopType.LONG_HAIR_STRAIGHT2, pa.TopType.LONG_HAIR_STRAIGHT_STRAND, pa.TopType.NO_HAIR, pa.TopType.SHORT_HAIR_DREADS_01, pa.TopType.SHORT_HAIR_DREADS_02, pa.TopType.SHORT_HAIR_FRIZZLE, pa.TopType.SHORT_HAIR_SHAGGY_MULLET, pa.TopType.SHORT_HAIR_SHORT_CURLY, pa.TopType.SHORT_HAIR_SHORT_FLAT, pa.TopType.SHORT_HAIR_SHORT_ROUND, pa.TopType.SHORT_HAIR_SHORT_WAVED, pa.TopType.SHORT_HAIR_SIDES, pa.TopType.SHORT_HAIR_THE_CAESAR, pa.TopType.SHORT_HAIR_THE_CAESAR_SIDE_PART, pa.TopType.TURBAN, pa.TopType.WINTER_HAT1, pa.TopType.WINTER_HAT2, pa.TopType.WINTER_HAT3, pa.TopType.WINTER_HAT4]\n",
      "color = [pa.Color.BLACK, pa.Color.BLUE_01, pa.Color.BLUE_02, pa.Color.BLUE_03, pa.Color.GRAY_01, pa.Color.GRAY_02, pa.Color.HEATHER, pa.Color.PASTEL_BLUE, pa.Color.PASTEL_GREEN, pa.Color.PASTEL_ORANGE, pa.Color.PASTEL_RED, pa.Color.PASTEL_YELLOW, pa.Color.PINK, pa.Color.RED, pa.Color.WHITE]\n",
      "mouthtype = [pa.MouthType.CONCERNED, pa.MouthType.DEFAULT, pa.MouthType.DISBELIEF, pa.MouthType.EATING, pa.MouthType.GRIMACE, pa.MouthType.SAD, pa.MouthType.SCREAM_OPEN, pa.MouthType.SERIOUS, pa.MouthType.SMILE, pa.MouthType.TONGUE, pa.MouthType.TWINKLE, pa.MouthType.VOMIT]\n",
      "eyestype = [pa.EyesType.CLOSE, pa.EyesType.CRY, pa.EyesType.DEFAULT, pa.EyesType.DIZZY, pa.EyesType.EYE_ROLL, pa.EyesType.HAPPY, pa.EyesType.HEARTS, pa.EyesType.SIDE, pa.EyesType.SQUINT, pa.EyesType.SURPRISED, pa.EyesType.WINK, pa.EyesType.WINK_WACKY]\n",
      "eyebrowtype = [pa.EyebrowType.ANGRY, pa.EyebrowType.ANGRY_NATURAL, pa.EyebrowType.DEFAULT, pa.EyebrowType.DEFAULT_NATURAL, pa.EyebrowType.FLAT_NATURAL, pa.EyebrowType.FROWN_NATURAL, pa.EyebrowType.RAISED_EXCITED, pa.EyebrowType.RAISED_EXCITED_NATURAL, pa.EyebrowType.SAD_CONCERNED, pa.EyebrowType.SAD_CONCERNED_NATURAL, pa.EyebrowType.UNI_BROW_NATURAL, pa.EyebrowType.UP_DOWN, pa.EyebrowType.UP_DOWN_NATURAL]\n",
      "nosetype = [pa.NoseType.DEFAULT]\n",
      "accessoriestype = [pa.AccessoriesType.DEFAULT, pa.AccessoriesType.KURT, pa.AccessoriesType.PRESCRIPTION_01, pa.AccessoriesType.PRESCRIPTION_02, pa.AccessoriesType.ROUND, pa.AccessoriesType.SUNGLASSES, pa.AccessoriesType.WAYFARERS]\n",
      "clothetype = [pa.ClotheType.BLAZER_SHIRT, pa.ClotheType.BLAZER_SWEATER, pa.ClotheType.COLLAR_SWEATER, pa.ClotheType.GRAPHIC_SHIRT, pa.ClotheType.HOODIE, pa.ClotheType.OVERALL, pa.ClotheType.SHIRT_CREW_NECK, pa.ClotheType.SHIRT_SCOOP_NECK, pa.ClotheType.SHIRT_V_NECK]\n",
      "clothegraphictype = [pa.ClotheGraphicType.BAT, pa.ClotheGraphicType.BEAR, pa.ClotheGraphicType.CUMBIA, pa.ClotheGraphicType.DEER, pa.ClotheGraphicType.DIAMOND, pa.ClotheGraphicType.HOLA, pa.ClotheGraphicType.PIZZA, pa.ClotheGraphicType.RESIST, pa.ClotheGraphicType.SELENA, pa.ClotheGraphicType.SKULL, pa.ClotheGraphicType.SKULL_OUTLINE]\n"
     ]
    }
   ],
   "source": [
    "categories = [\n",
    "    \"AvatarStyle\", \"SkinColor\", \"HairColor\", \"FacialHairType\", \n",
    "    \"TopType\", \"Color\", \"MouthType\", \"EyesType\", \"EyebrowType\", \n",
    "    \"NoseType\", \"AccessoriesType\", \"ClotheType\", \"ClotheGraphicType\"\n",
    "]\n",
    "\n",
    "for category in categories:\n",
    "    items = [item for item in dir(getattr(pa, category)) if not item.startswith(\"__\")]\n",
    "    print(f\"{category.lower()} = [{', '.join([f'pa.{category}.{item}' for item in items])}]\")"
   ]
  },
  {
   "cell_type": "code",
   "execution_count": 4,
   "id": "04960f8b",
   "metadata": {},
   "outputs": [],
   "source": [
    "categories = [\n",
    "    \"AvatarStyle\", \"SkinColor\", \"HairColor\", \"FacialHairType\", \n",
    "    \"TopType\", \"Color\", \"MouthType\", \"EyesType\", \"EyebrowType\", \n",
    "    \"NoseType\", \"AccessoriesType\", \"ClotheType\", \"ClotheGraphicType\"\n",
    "]\n",
    "\n",
    "category_items = {}\n",
    "\n",
    "for category in categories:\n",
    "    items = [item for item in dir(getattr(pa, category)) if not item.startswith(\"__\")]\n",
    "    category_items[category] = items"
   ]
  },
  {
   "cell_type": "code",
   "execution_count": 5,
   "id": "9ad40359",
   "metadata": {},
   "outputs": [
    {
     "name": "stdout",
     "output_type": "stream",
     "text": [
      "SkinColor = ['BLACK', 'BROWN', 'DARK_BROWN', 'LIGHT', 'PALE', 'TANNED', 'YELLOW']\n"
     ]
    }
   ],
   "source": [
    "# To access a specific category and its items:\n",
    "category_name = \"SkinColor\"\n",
    "print(f\"{category_name} = {category_items[category_name]}\")"
   ]
  },
  {
   "cell_type": "code",
   "execution_count": 6,
   "id": "643e22b1",
   "metadata": {},
   "outputs": [
    {
     "name": "stdout",
     "output_type": "stream",
     "text": [
      "Second item in SkinColor = BROWN\n"
     ]
    }
   ],
   "source": [
    "# To access an item within a specific category:\n",
    "item_index = 1  # get the second item as an example\n",
    "print(f\"Second item in {category_name} = {category_items[category_name][item_index]}\")"
   ]
  }
 ],
 "metadata": {
  "kernelspec": {
   "display_name": "Python 3 (ipykernel)",
   "language": "python",
   "name": "python3"
  },
  "language_info": {
   "codemirror_mode": {
    "name": "ipython",
    "version": 3
   },
   "file_extension": ".py",
   "mimetype": "text/x-python",
   "name": "python",
   "nbconvert_exporter": "python",
   "pygments_lexer": "ipython3",
   "version": "3.11.4"
  }
 },
 "nbformat": 4,
 "nbformat_minor": 5
}
